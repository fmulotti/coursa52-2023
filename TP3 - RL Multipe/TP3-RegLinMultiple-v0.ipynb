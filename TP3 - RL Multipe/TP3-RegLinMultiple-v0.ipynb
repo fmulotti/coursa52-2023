{
 "cells": [
  {
   "cell_type": "markdown",
   "id": "2055abd1-4f18-4108-9b03-53e94a15fb51",
   "metadata": {
    "tags": []
   },
   "source": [
    "---\n",
    "# Régression linéaire multiple\n",
    "\n",
    "Jeu de données : advertising.csv\n",
    "\n",
    "v1.2"
   ]
  },
  {
   "cell_type": "markdown",
   "id": "a81f421d-d2ac-4c7a-9941-9e656c053f8d",
   "metadata": {},
   "source": [
    "---\n",
    "## Configuration adhoc"
   ]
  },
  {
   "cell_type": "code",
   "execution_count": null,
   "id": "00749f01-2739-4cae-ac00-3d11c0f269c1",
   "metadata": {},
   "outputs": [],
   "source": [
    "%config Completer.use_jedi = False"
   ]
  },
  {
   "cell_type": "markdown",
   "id": "bdc2c28d-44f9-4987-aa89-5e8e11f6f704",
   "metadata": {},
   "source": [
    "---\n",
    "## 1) import des bibliothèques"
   ]
  },
  {
   "cell_type": "code",
   "execution_count": null,
   "id": "d94630ca-874b-45c5-b141-b7d327ee7ad8",
   "metadata": {},
   "outputs": [],
   "source": [
    "import numpy as np\n",
    "import pandas as pd\n",
    "import matplotlib.pyplot as plt"
   ]
  },
  {
   "cell_type": "markdown",
   "id": "f8c8ab5d-f6dd-4e2a-bd76-6bde3e3e6d54",
   "metadata": {},
   "source": [
    "---\n",
    "## 2) Chargement des données"
   ]
  },
  {
   "cell_type": "code",
   "execution_count": null,
   "id": "f222bf05-3ab1-4bde-b165-60f3cb8f0e8f",
   "metadata": {},
   "outputs": [],
   "source": [
    "# votre code -  4 colonnes 'TV','Radio','Newspaper','Sales'\n"
   ]
  },
  {
   "cell_type": "markdown",
   "id": "ca96ae30-fc8e-4f76-92b3-5b560776a47c",
   "metadata": {},
   "source": [
    "---\n",
    "Exercice : Afficher les informations résumées du jeu de données"
   ]
  },
  {
   "cell_type": "code",
   "execution_count": null,
   "id": "cc976e1c-2bb7-4eab-8dd5-73450613cd01",
   "metadata": {},
   "outputs": [],
   "source": []
  },
  {
   "cell_type": "markdown",
   "id": "d29b0968-5bb1-4d9e-aa83-45b7e225a93a",
   "metadata": {},
   "source": [
    "---\n",
    "Exercice : Afficher les caratéristiques numériques (moyenne, écart type, quartile...)"
   ]
  },
  {
   "cell_type": "code",
   "execution_count": null,
   "id": "f58a94eb-5ab1-4e89-a576-f11c0b08f244",
   "metadata": {},
   "outputs": [],
   "source": []
  },
  {
   "cell_type": "markdown",
   "id": "51faec37-078d-4f48-8c2b-6014d8d91190",
   "metadata": {},
   "source": [
    "---\n",
    "Exercice : Afficher les 5 premières lignes"
   ]
  },
  {
   "cell_type": "code",
   "execution_count": null,
   "id": "333e4afa-052a-4923-ba0e-f575b56f898d",
   "metadata": {},
   "outputs": [],
   "source": []
  },
  {
   "cell_type": "markdown",
   "id": "70f8531b-da2d-4368-b6c6-4e8b8ba17974",
   "metadata": {},
   "source": [
    "---\n",
    "## 3) Préparation des données"
   ]
  },
  {
   "cell_type": "markdown",
   "id": "c98093f5-c0fe-47b2-bc1a-7e542b83e995",
   "metadata": {},
   "source": [
    "# Définir les variables $x_0$ à $x_3$"
   ]
  },
  {
   "cell_type": "markdown",
   "id": "470c502f-d78e-45cf-8f3b-dee518b149d6",
   "metadata": {},
   "source": [
    "Exercice :<br>\n",
    "Définissez une variable m dont la valeur sera la taille du jeu de données<br>\n",
    "\n",
    "Affectez aux variables x0 à x3 respectivement : un tableau de dimension m initialisé avec des 1, 'TV','Radio','Newspaper'.<br>\n",
    "\n",
    "Affectez le contenu de la colonne Sales à y sous la forme 200,1<br>\n",
    "\n",
    "x0 est notre intercepte."
   ]
  },
  {
   "cell_type": "code",
   "execution_count": null,
   "id": "66f4855c-1313-4126-8b71-0d4bbe7a68c5",
   "metadata": {},
   "outputs": [],
   "source": [
    "# définir une variable m correspondant à la taille du jeu de données\n"
   ]
  },
  {
   "cell_type": "code",
   "execution_count": null,
   "id": "abc06c07-027e-4df2-b561-5dd2a966584a",
   "metadata": {},
   "outputs": [],
   "source": [
    "# Votre code, définir x0, x1, x2 et y\n"
   ]
  },
  {
   "cell_type": "markdown",
   "id": "ed8f5d3d-ec08-4b3d-bd90-9a308b3cc327",
   "metadata": {
    "jp-MarkdownHeadingCollapsed": true,
    "tags": []
   },
   "source": [
    "---\n",
    "Exercice : définir X = (x0,x1,x2,x3)"
   ]
  },
  {
   "cell_type": "code",
   "execution_count": null,
   "id": "ce1b6e46-d4b5-4213-9af0-a9052ea60a84",
   "metadata": {},
   "outputs": [],
   "source": []
  },
  {
   "cell_type": "code",
   "execution_count": null,
   "id": "b84955c5-0cf0-4e34-8ebe-c13fd541d0ce",
   "metadata": {},
   "outputs": [],
   "source": [
    "assert X.shape == (m,4)"
   ]
  },
  {
   "cell_type": "markdown",
   "id": "ae50e9a3-5e99-4d01-8b35-0c6ebbe23557",
   "metadata": {},
   "source": [
    "---\n",
    "# 4) Fonctions"
   ]
  },
  {
   "cell_type": "markdown",
   "id": "18e2caa8-dd6e-47c5-9d3e-010e68c24729",
   "metadata": {},
   "source": [
    "---\n",
    "## Définir le fonction reg permettant d'estimer y en fonction des x0, x1,x2, x3,  $\\beta_0$, $\\beta_1$, $\\beta_2$ et $\\beta_3$\n",
    "\n",
    "x et $\\beta$ sont représentés sous forme de vecteur (np.array)\n",
    "\n",
    "$h_{\\theta}(x)=\\theta_{0}x_0 + \\theta_{1}x_1 + \\cdots + \\theta_{n}x_n = \\theta^TX$\n",
    "\n",
    "![Multiplication de matrice](static/calc_matriciel.png)"
   ]
  },
  {
   "cell_type": "code",
   "execution_count": null,
   "id": "9d2cddbd-0e26-46cb-917c-7a849fa52ff9",
   "metadata": {},
   "outputs": [],
   "source": [
    "def reg(X,theta):\n",
    "    return # "
   ]
  },
  {
   "cell_type": "code",
   "execution_count": null,
   "id": "3a640ece-3a94-4153-8de2-9e6fee91b2d8",
   "metadata": {},
   "outputs": [],
   "source": [
    "# Test de la fonction\n",
    "X_test=np.array([[1,2],[2,3],[4,6]])\n",
    "print(X_test.shape)"
   ]
  },
  {
   "cell_type": "code",
   "execution_count": null,
   "id": "ce41a9d6-3756-48a4-9941-8af89f26ff1e",
   "metadata": {},
   "outputs": [],
   "source": [
    "B_test=np.array([2,2])\n",
    "print(B_test.shape)"
   ]
  },
  {
   "cell_type": "code",
   "execution_count": null,
   "id": "a4d4d8d3-3011-4ac4-8001-17273205bbe7",
   "metadata": {},
   "outputs": [],
   "source": [
    "# Ne devrait pas générer d'erreur\n",
    "assert np.array_equal(reg(X_test,B_test) , np.array([ 6, 10, 20]))"
   ]
  },
  {
   "cell_type": "markdown",
   "id": "bd7c936a-dbe9-4d34-ab85-c4b26c5caee0",
   "metadata": {},
   "source": [
    "---\n",
    "Exercice : Définir la fonction de coût (utilisez une des deux formes)\n",
    "\n",
    "$J(\\theta)= \\frac{1}{2m}\\sum\\limits_{i=1}^{m}(h_{\\theta}(x^{(i)})-y^{(i)})^{2}=\\frac{1}{2m}(y-X\\theta)^T\\times(y-X\\theta)$"
   ]
  },
  {
   "cell_type": "code",
   "execution_count": null,
   "id": "68d2f561-35c3-46b4-b5a0-a672cac3a20b",
   "metadata": {},
   "outputs": [],
   "source": [
    "def cost_function(X,Y,theta):\n",
    "    # votre code\n",
    "    return cost"
   ]
  },
  {
   "cell_type": "markdown",
   "id": "6470b307-8b80-452d-a577-365a8238dc06",
   "metadata": {},
   "source": [
    "---\n",
    "# 5) Algorithme du gradient"
   ]
  },
  {
   "cell_type": "markdown",
   "id": "99e1c4e2-5c83-41f2-9cb4-085d70f85f52",
   "metadata": {},
   "source": [
    "![Gradient](static/gradient.png)"
   ]
  },
  {
   "cell_type": "markdown",
   "id": "ee6ab9d3-ae01-483a-8c15-cc63bab32304",
   "metadata": {},
   "source": [
    "$\n",
    "Répéter pendant n_iterations\n",
    "\\{\\\\\n",
    "\\theta_{j}:= \\theta_{j} - \\alpha\\frac{1}{m}\\sum\\limits_{i=1}^{m}(h_{\\theta}(x^{(i)})-y^{(i)})\\times x_{j}^{(i)}\\quad\\forall j\n",
    "\\\\\n",
    "\\}\n",
    "$\n",
    "\n",
    "Ou sous forme vectorisée:\n",
    "\n",
    "$\n",
    "Répéter pendant n_iterations\n",
    "\\{\\\\\n",
    "\\theta:= \\theta - \\alpha\\frac{1}{m}(\\theta^TX-y)\\times X\n",
    "\\\\\n",
    "\\}\n",
    "$"
   ]
  },
  {
   "cell_type": "markdown",
   "id": "ccff01db-feef-4829-b631-97137927b23a",
   "metadata": {},
   "source": [
    "---\n",
    "Exercice : appliquer l'algortihme du gradient pour mettre à jour les 4 $\\theta\\$"
   ]
  },
  {
   "cell_type": "code",
   "execution_count": null,
   "id": "5bc2d874-ea99-41f0-91e4-cbeb061eddaf",
   "metadata": {
    "tags": []
   },
   "outputs": [],
   "source": [
    "# hyperparamètres\n",
    "lr=0.005\n",
    "iterations=30000\n",
    "\n",
    "# paramètre\n",
    "theta=np.zeros((4,1))\n",
    "\n",
    "# Autres\n",
    "histo_result = []\n",
    "\n",
    "for i in range(iterations):\n",
    "    # votre code\n",
    " \n",
    "    histo_result.append((i,theta,cost_function(X,y,theta)))\n",
    "print(theta)    "
   ]
  },
  {
   "cell_type": "markdown",
   "id": "93b2b5c8-990d-4fcf-8901-dbb2c621f28f",
   "metadata": {
    "tags": []
   },
   "source": [
    "## Analyse du résultat\n",
    "Est ce que les theta calculés font sens ?"
   ]
  },
  {
   "cell_type": "markdown",
   "id": "54ecd7d6-02dc-4552-a6a9-6f084613e477",
   "metadata": {},
   "source": [
    "Effectivement, notre algortihme n'arrive pas à converger.\n",
    "\n",
    "---\n",
    "# Explication avec la suite du cours\n",
    "---"
   ]
  },
  {
   "cell_type": "markdown",
   "id": "915f441d-18ed-4f75-8edb-1ac666c417ba",
   "metadata": {},
   "source": [
    "Exercice : définissez une fonction prenant en entrée un tableau sous la forme (n,1) et retournant un tableau (n,1) __standardisé__."
   ]
  },
  {
   "cell_type": "code",
   "execution_count": null,
   "id": "febaef62-f082-4b60-afd9-8c553011e966",
   "metadata": {},
   "outputs": [],
   "source": [
    "def std(V):\n",
    "    return # votre code"
   ]
  },
  {
   "cell_type": "markdown",
   "id": "b741b8b7-9b12-49cd-96f8-9d06a57eda5e",
   "metadata": {},
   "source": [
    "Exercice : Redéfinissez les variables x0_std à x3_std.<br>\n",
    "Pour x0 juste créer un tableau de m fois 1<br>\n",
    "Agrégez ces 4 variables danbs X_std"
   ]
  },
  {
   "cell_type": "code",
   "execution_count": null,
   "id": "c6461691-d18c-4760-b75c-402f83803c48",
   "metadata": {},
   "outputs": [],
   "source": []
  },
  {
   "cell_type": "markdown",
   "id": "e5451233-009f-44db-9e13-c2334ddc0433",
   "metadata": {},
   "source": [
    "___\n",
    "Exercice : Vérifiez visuellement si la standardisation modifie la relation entre le budget TV et les ventes"
   ]
  },
  {
   "cell_type": "code",
   "execution_count": null,
   "id": "e22701dc-c8bc-4ff8-b4e2-ff45f3a6a959",
   "metadata": {},
   "outputs": [],
   "source": []
  },
  {
   "cell_type": "markdown",
   "id": "e435cdd4-447d-45ea-9046-354b53de8e7c",
   "metadata": {},
   "source": [
    "Vote conclusion :\n",
    "    "
   ]
  },
  {
   "cell_type": "markdown",
   "id": "42ca72de-8652-493a-a08e-3ae26e006c48",
   "metadata": {},
   "source": [
    "---\n",
    "Relancez l'algorithme précédent du gradient sans oublier de changer la variable X -> X_std"
   ]
  },
  {
   "cell_type": "code",
   "execution_count": null,
   "id": "37f1fa89-ac30-454f-ac60-e9a6fd11b8de",
   "metadata": {
    "tags": []
   },
   "outputs": [],
   "source": [
    "# hyperparamètres\n",
    "lr=0.000066\n",
    "iterations=500000\n",
    "\n",
    "alpha = 0.000066\n",
    "n_iterations = 650000\n",
    "# paramètre\n",
    "theta=np.zeros((4,1))\n",
    "\n",
    "# Autres\n",
    "histo_result = []\n",
    "\n",
    "for i in range(iterations):\n",
    "    # votre code (copie de la précédente boucle)\n",
    " \n",
    "    histo_result.append((i,np.copy(theta),cost_function(X_std,y,theta)))\n",
    "print(theta)  "
   ]
  },
  {
   "cell_type": "markdown",
   "id": "49a9d80c-bab6-4574-abd3-3642a552a25a",
   "metadata": {},
   "source": [
    "Vous devriez obtenir des valeurs proches de :<br>\n",
    "array([[14.0225    ],<br>\n",
    "       [ 3.91925365],<br>\n",
    "       [ 2.79206274],<br>\n",
    "       [-0.02253861]])"
   ]
  },
  {
   "cell_type": "markdown",
   "id": "bca43ec4-3192-4a02-a7ca-913061dc78c0",
   "metadata": {},
   "source": [
    "Si vous avez codé une des 2 formes de l'algorithme, je vous. invite à coder la deuxième pour comparaison"
   ]
  },
  {
   "cell_type": "markdown",
   "id": "524769cd-be36-4e5f-889a-8731665be7c1",
   "metadata": {},
   "source": [
    "---\n",
    "Affichons l'évolution de la perte"
   ]
  },
  {
   "cell_type": "code",
   "execution_count": null,
   "id": "3d637f60-9bee-49fd-a175-fc302c71d178",
   "metadata": {},
   "outputs": [],
   "source": [
    "histo_loss = [i[2] for i in histo_result] "
   ]
  },
  {
   "cell_type": "code",
   "execution_count": null,
   "id": "22150677-d7eb-4c17-9f49-02a8cd42f1f8",
   "metadata": {},
   "outputs": [],
   "source": [
    "plt.plot(histo_loss)"
   ]
  },
  {
   "cell_type": "markdown",
   "id": "ce82edb3-fb4e-4c33-98ff-b19b928b9f27",
   "metadata": {},
   "source": [
    "___\n",
    "### Comment interprétez vous les résultats ?"
   ]
  },
  {
   "cell_type": "code",
   "execution_count": null,
   "id": "29ee2367-d6e7-4583-a697-c846d36df5b6",
   "metadata": {},
   "outputs": [],
   "source": []
  }
 ],
 "metadata": {
  "kernelspec": {
   "display_name": "ia",
   "language": "python",
   "name": "ia"
  },
  "language_info": {
   "codemirror_mode": {
    "name": "ipython",
    "version": 3
   },
   "file_extension": ".py",
   "mimetype": "text/x-python",
   "name": "python",
   "nbconvert_exporter": "python",
   "pygments_lexer": "ipython3",
   "version": "3.9.0"
  }
 },
 "nbformat": 4,
 "nbformat_minor": 5
}

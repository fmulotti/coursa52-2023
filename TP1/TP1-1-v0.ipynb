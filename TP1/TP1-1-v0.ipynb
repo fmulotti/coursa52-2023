{
 "cells": [
  {
   "cell_type": "markdown",
   "id": "907e0b1a-18c2-4222-858f-d51eb7d1bdfc",
   "metadata": {},
   "source": [
    "# Apprentissage supervisé\n",
    "\n",
    "Régression linéaire simple\n",
    "\n",
    "__Objectifs__\n",
    "- représentation,\n",
    "- recherche empirique,\n",
    "- Calcul de la fonction de perte.\n"
   ]
  },
  {
   "cell_type": "markdown",
   "id": "bdf33c1d-5781-4515-a17c-10d5cc247348",
   "metadata": {},
   "source": [
    "# TP1.1 Première partie sur données fictives"
   ]
  },
  {
   "cell_type": "code",
   "execution_count": null,
   "id": "d97c8909-eac8-4240-9f39-b013d8bd97bd",
   "metadata": {},
   "outputs": [],
   "source": [
    "import numpy as np\n",
    "import pandas as pd\n",
    "import matplotlib.pyplot as plt\n",
    "from sklearn.datasets import make_regression"
   ]
  },
  {
   "cell_type": "markdown",
   "id": "1a6d7736-e5c3-4167-821a-8b0ec6ffdc08",
   "metadata": {},
   "source": [
    "---\n",
    "Créons un modèle avec 100 valeurs, passant par (0,0) et 1 feature."
   ]
  },
  {
   "cell_type": "code",
   "execution_count": null,
   "id": "ca1ef816-76b6-466d-9908-01981f33e713",
   "metadata": {},
   "outputs": [],
   "source": [
    "X,y=make_regression(100,1,bias=0,noise=2,random_state=2023)"
   ]
  },
  {
   "cell_type": "markdown",
   "id": "cd2bb118-78d3-47fb-8c19-14b9ca9fdfae",
   "metadata": {},
   "source": [
    "\n",
    "Exercice 1 : repésentez graphiquement le modèle"
   ]
  },
  {
   "cell_type": "code",
   "execution_count": null,
   "id": "b6d96dca-58f5-4f76-8c13-fd153395def2",
   "metadata": {},
   "outputs": [],
   "source": []
  },
  {
   "cell_type": "raw",
   "id": "0f8b8253-52d6-43d8-8efb-68d57ce9766d",
   "metadata": {},
   "source": [
    "Exercice 1.1 : les données semblent elles pouvoir être représentées par une régression linéaire ?"
   ]
  },
  {
   "cell_type": "raw",
   "id": "eba953b0-ba3d-4ba5-ad64-b253b591256f",
   "metadata": {},
   "source": []
  },
  {
   "cell_type": "markdown",
   "id": "7bdc595a-8c04-454c-add2-c99ddb4ab92b",
   "metadata": {},
   "source": [
    "Exercice 2 : estimez visuellement ce que pourrait $\\beta0$ et $\\beta1$ ($y=\\beta0 + \\beta1$*x)"
   ]
  },
  {
   "cell_type": "raw",
   "id": "a90c8d44-2aea-4800-bd22-40c6f8db678b",
   "metadata": {},
   "source": []
  },
  {
   "cell_type": "code",
   "execution_count": 1,
   "id": "f6679cf5-f781-4539-8ca5-e84a4ea5fe3f",
   "metadata": {},
   "outputs": [],
   "source": [
    "# Affectez ces valeurs aux variables suivantes\n",
    "b1=\n",
    "b0="
   ]
  },
  {
   "cell_type": "markdown",
   "id": "f91a2e8d-c38a-4e95-bf19-ba4bec2ba9fc",
   "metadata": {},
   "source": [
    "Exercice 3 : définissez une fonction __modele__ qui renvoit y pour chaque X en paramètre selon $\\beta0$ et $\\beta1$"
   ]
  },
  {
   "cell_type": "code",
   "execution_count": null,
   "id": "69fa867f-8d08-4d75-8db4-df78e5517151",
   "metadata": {},
   "outputs": [],
   "source": [
    "def modele(X,b0,b1):\n",
    "    return  # votre"
   ]
  },
  {
   "cell_type": "markdown",
   "id": "03fa7cc7-d9de-4909-843b-92abe3a9efaf",
   "metadata": {},
   "source": [
    "Exercice 4: représentez graphiquement les points et superposez le modèle"
   ]
  },
  {
   "cell_type": "code",
   "execution_count": null,
   "id": "a77be07c-c8c1-49f7-a787-af671988e708",
   "metadata": {},
   "outputs": [],
   "source": []
  },
  {
   "cell_type": "markdown",
   "id": "f23253ed-2f61-46d8-b43a-59b43335ede6",
   "metadata": {},
   "source": [
    "Exercice 5 : définissez une fonction de coût RSE2 (nommer la __cout__)"
   ]
  },
  {
   "cell_type": "code",
   "execution_count": null,
   "id": "8f38451e-b828-443e-ae15-bea1d989066f",
   "metadata": {},
   "outputs": [],
   "source": [
    "def cout(y,y_pred):\n",
    "    #votre code\n",
    "    return rse"
   ]
  },
  {
   "cell_type": "code",
   "execution_count": null,
   "id": "8d2bcb3a-a21d-499d-9a7d-55401fa31eca",
   "metadata": {},
   "outputs": [],
   "source": [
    "# La ligne suivante ne devrait pas générée d erreur\n",
    "assert cout(np.array([0,1,2,3,4,5]),np.array([1,1,2,3,4,6]))==0.5"
   ]
  },
  {
   "cell_type": "markdown",
   "id": "fe9f3d66-6bdf-4c74-914d-a9369d70517f",
   "metadata": {},
   "source": [
    "---\n",
    "## Nous allons étudier la variation de coût corrélée à nos hyperparamètres"
   ]
  },
  {
   "cell_type": "markdown",
   "id": "e3d48d6b-31ac-44aa-a0c7-9f9ee74e9dc3",
   "metadata": {},
   "source": [
    "Exercice 6: définissez un array numpy avec 20 valeurs comprises entrer b1 -3  et +3. Appeler le __beta1__"
   ]
  },
  {
   "cell_type": "code",
   "execution_count": null,
   "id": "9a5efc89-963d-464b-bb6e-823d462350a6",
   "metadata": {},
   "outputs": [],
   "source": []
  },
  {
   "cell_type": "markdown",
   "id": "bbe050b1-f992-4e8e-a43b-d0707d9e7987",
   "metadata": {},
   "source": [
    "---\n",
    "Exercice 7 : \n",
    "Pour chaque valeur de $\\beta1$ générer les y en fonction de X et calculer le cout. (en utilisant notre fonction)<br>\n",
    "Stocker ce cout dans une structure np.array\n",
    "\n"
   ]
  },
  {
   "cell_type": "code",
   "execution_count": null,
   "id": "848df2d1-f80e-4be0-9c40-6993eed5b0ee",
   "metadata": {},
   "outputs": [],
   "source": []
  },
  {
   "cell_type": "markdown",
   "id": "60d8cb0b-4dfd-4258-8831-e8dfa85b8eaa",
   "metadata": {},
   "source": [
    "Exercice 8 : représentez les couts ainsi estimés"
   ]
  },
  {
   "cell_type": "code",
   "execution_count": null,
   "id": "2db31de6-b86f-491e-a3a1-85aeb933b6e5",
   "metadata": {},
   "outputs": [],
   "source": []
  },
  {
   "cell_type": "markdown",
   "id": "e9886430-1919-4447-971a-8daa39fb14d8",
   "metadata": {},
   "source": [
    "---\n",
    "Exercice 9 : Que constatez vous et quel est votre conclusion ?"
   ]
  },
  {
   "cell_type": "code",
   "execution_count": null,
   "id": "b732e3b8-535e-4f47-b45f-372d17f9a1e3",
   "metadata": {},
   "outputs": [],
   "source": []
  }
 ],
 "metadata": {
  "kernelspec": {
   "display_name": "ia",
   "language": "python",
   "name": "ia"
  },
  "language_info": {
   "codemirror_mode": {
    "name": "ipython",
    "version": 3
   },
   "file_extension": ".py",
   "mimetype": "text/x-python",
   "name": "python",
   "nbconvert_exporter": "python",
   "pygments_lexer": "ipython3",
   "version": "3.11.6"
  }
 },
 "nbformat": 4,
 "nbformat_minor": 5
}

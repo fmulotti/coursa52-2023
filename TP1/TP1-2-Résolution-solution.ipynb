{
 "cells": [
  {
   "cell_type": "markdown",
   "id": "907e0b1a-18c2-4222-858f-d51eb7d1bdfc",
   "metadata": {},
   "source": [
    "# Apprentissage supervisé\n",
    "\n",
    "Régression linéaire simple\n",
    "\n",
    "__Objectif__\n",
    "- chargement d un jeu de données CSV,\n",
    "- représentation des données,\n",
    "- calcul $B_0$ et $B_1$, méthode simple,\n",
    "- calcul de la qualité du modèle,\n",
    "- calcul avec la méthode du gradient."
   ]
  },
  {
   "cell_type": "code",
   "execution_count": 2,
   "id": "d97c8909-eac8-4240-9f39-b013d8bd97bd",
   "metadata": {},
   "outputs": [],
   "source": [
    "import numpy as np\n",
    "import pandas as pd\n",
    "import matplotlib.pyplot as plt\n",
    "import tqdm"
   ]
  },
  {
   "cell_type": "markdown",
   "id": "4851549d-e9bd-47b0-8f57-0155950176a3",
   "metadata": {},
   "source": [
    "## Chargement du jeu données \"../data/Advertising.csv\" \n",
    "conserver les colonnes TV et Sales"
   ]
  },
  {
   "cell_type": "code",
   "execution_count": 3,
   "id": "fff104ce-7117-4ffb-b5b4-c63c4b6bbf2d",
   "metadata": {},
   "outputs": [],
   "source": [
    "df = pd.read_csv(\"../data/Advertising.csv\")"
   ]
  },
  {
   "cell_type": "code",
   "execution_count": 4,
   "id": "be12d1e8-475c-4d7a-8d72-0e4257b21a4f",
   "metadata": {},
   "outputs": [
    {
     "name": "stdout",
     "output_type": "stream",
     "text": [
      "<class 'pandas.core.frame.DataFrame'>\n",
      "RangeIndex: 200 entries, 0 to 199\n",
      "Data columns (total 5 columns):\n",
      " #   Column      Non-Null Count  Dtype  \n",
      "---  ------      --------------  -----  \n",
      " 0   Unnamed: 0  200 non-null    int64  \n",
      " 1   TV          200 non-null    float64\n",
      " 2   Radio       200 non-null    float64\n",
      " 3   Newspaper   200 non-null    float64\n",
      " 4   Sales       200 non-null    float64\n",
      "dtypes: float64(4), int64(1)\n",
      "memory usage: 7.9 KB\n"
     ]
    }
   ],
   "source": [
    "df.info()"
   ]
  },
  {
   "cell_type": "code",
   "execution_count": 5,
   "id": "ca85e901-6eca-49ef-ba57-a2019b9a394e",
   "metadata": {},
   "outputs": [],
   "source": [
    "listcol=df.columns"
   ]
  },
  {
   "cell_type": "code",
   "execution_count": 6,
   "id": "559c2acf-01c6-4931-9ff7-043c7a7cc622",
   "metadata": {},
   "outputs": [],
   "source": [
    "df.drop(columns=[listcol[0],listcol[2],listcol[3]],inplace=True)"
   ]
  },
  {
   "cell_type": "code",
   "execution_count": 7,
   "id": "8eb4b215-9aa9-4770-8065-357f076dc6ef",
   "metadata": {},
   "outputs": [
    {
     "data": {
      "text/html": [
       "<div>\n",
       "<style scoped>\n",
       "    .dataframe tbody tr th:only-of-type {\n",
       "        vertical-align: middle;\n",
       "    }\n",
       "\n",
       "    .dataframe tbody tr th {\n",
       "        vertical-align: top;\n",
       "    }\n",
       "\n",
       "    .dataframe thead th {\n",
       "        text-align: right;\n",
       "    }\n",
       "</style>\n",
       "<table border=\"1\" class=\"dataframe\">\n",
       "  <thead>\n",
       "    <tr style=\"text-align: right;\">\n",
       "      <th></th>\n",
       "      <th>TV</th>\n",
       "      <th>Sales</th>\n",
       "    </tr>\n",
       "  </thead>\n",
       "  <tbody>\n",
       "    <tr>\n",
       "      <th>count</th>\n",
       "      <td>200.000000</td>\n",
       "      <td>200.000000</td>\n",
       "    </tr>\n",
       "    <tr>\n",
       "      <th>mean</th>\n",
       "      <td>147.042500</td>\n",
       "      <td>14.022500</td>\n",
       "    </tr>\n",
       "    <tr>\n",
       "      <th>std</th>\n",
       "      <td>85.854236</td>\n",
       "      <td>5.217457</td>\n",
       "    </tr>\n",
       "    <tr>\n",
       "      <th>min</th>\n",
       "      <td>0.700000</td>\n",
       "      <td>1.600000</td>\n",
       "    </tr>\n",
       "    <tr>\n",
       "      <th>25%</th>\n",
       "      <td>74.375000</td>\n",
       "      <td>10.375000</td>\n",
       "    </tr>\n",
       "    <tr>\n",
       "      <th>50%</th>\n",
       "      <td>149.750000</td>\n",
       "      <td>12.900000</td>\n",
       "    </tr>\n",
       "    <tr>\n",
       "      <th>75%</th>\n",
       "      <td>218.825000</td>\n",
       "      <td>17.400000</td>\n",
       "    </tr>\n",
       "    <tr>\n",
       "      <th>max</th>\n",
       "      <td>296.400000</td>\n",
       "      <td>27.000000</td>\n",
       "    </tr>\n",
       "  </tbody>\n",
       "</table>\n",
       "</div>"
      ],
      "text/plain": [
       "               TV       Sales\n",
       "count  200.000000  200.000000\n",
       "mean   147.042500   14.022500\n",
       "std     85.854236    5.217457\n",
       "min      0.700000    1.600000\n",
       "25%     74.375000   10.375000\n",
       "50%    149.750000   12.900000\n",
       "75%    218.825000   17.400000\n",
       "max    296.400000   27.000000"
      ]
     },
     "execution_count": 7,
     "metadata": {},
     "output_type": "execute_result"
    }
   ],
   "source": [
    "df.describe()"
   ]
  },
  {
   "cell_type": "code",
   "execution_count": 8,
   "id": "e488baaf-e6f9-4a31-be6b-5e9cf58bab1a",
   "metadata": {},
   "outputs": [
    {
     "name": "stdout",
     "output_type": "stream",
     "text": [
      "<class 'pandas.core.frame.DataFrame'>\n",
      "RangeIndex: 200 entries, 0 to 199\n",
      "Data columns (total 2 columns):\n",
      " #   Column  Non-Null Count  Dtype  \n",
      "---  ------  --------------  -----  \n",
      " 0   TV      200 non-null    float64\n",
      " 1   Sales   200 non-null    float64\n",
      "dtypes: float64(2)\n",
      "memory usage: 3.2 KB\n"
     ]
    }
   ],
   "source": [
    "df.info()"
   ]
  },
  {
   "cell_type": "code",
   "execution_count": 9,
   "id": "ff3e76e0-c4f5-4126-b85b-795c06fbc53d",
   "metadata": {},
   "outputs": [
    {
     "data": {
      "text/plain": [
       "'Sales'"
      ]
     },
     "execution_count": 9,
     "metadata": {},
     "output_type": "execute_result"
    }
   ],
   "source": [
    "df.columns[1]"
   ]
  },
  {
   "cell_type": "markdown",
   "id": "12f8e717-dd5d-4728-b5da-05178b406ec2",
   "metadata": {},
   "source": [
    "---\n",
    "Exercice : charger les données de la colonne TV dans un numpy X et Sales dans un. numpy Y"
   ]
  },
  {
   "cell_type": "code",
   "execution_count": 10,
   "id": "347ea1f6-37f6-4123-a0d8-8dac35646546",
   "metadata": {},
   "outputs": [],
   "source": [
    "X=df['TV'].values"
   ]
  },
  {
   "cell_type": "code",
   "execution_count": 11,
   "id": "94c4164f-9b46-4ed1-b77b-0c6103bce849",
   "metadata": {},
   "outputs": [],
   "source": [
    "Y=df['Sales'].values"
   ]
  },
  {
   "cell_type": "markdown",
   "id": "6fc1bd31-ba87-4427-9059-f9f3f4de9f51",
   "metadata": {},
   "source": [
    "# Représentation"
   ]
  },
  {
   "cell_type": "code",
   "execution_count": 14,
   "id": "b3c97256-b8c3-4aae-9c9a-c0b083576fae",
   "metadata": {},
   "outputs": [
    {
     "data": {
      "image/png": "[encoded data removed]",
      "text/plain": [
       "<Figure size 1500x1000 with 1 Axes>"
      ]
     },
     "metadata": {},
     "output_type": "display_data"
    }
   ],
   "source": [
    "plt.figure(figsize=(15,10))\n",
    "plt.scatter(X,Y)\n",
    "plt.xlabel(\"Budget TV\")\n",
    "plt.ylabel(\"Ventes\")\n",
    "plt.show()"
   ]
  },
  {
   "cell_type": "markdown",
   "id": "5197643d-58c1-4891-9f3e-d1a663e2acf9",
   "metadata": {},
   "source": [
    "---\n",
    "Exercice : Calcul de b1 et b0\n",
    "\n",
    "![b1b0](static/b0-b1.png)"
   ]
  },
  {
   "cell_type": "code",
   "execution_count": 15,
   "id": "56325492-e852-45d9-9599-16c696a70802",
   "metadata": {},
   "outputs": [],
   "source": [
    "moy_X=np.mean(X)\n",
    "moy_Y=np.mean(Y)"
   ]
  },
  {
   "cell_type": "code",
   "execution_count": 16,
   "id": "beb1161d-07b8-4537-b200-2c7cd81efd47",
   "metadata": {},
   "outputs": [
    {
     "data": {
      "text/plain": [
       "147.0425"
      ]
     },
     "execution_count": 16,
     "metadata": {},
     "output_type": "execute_result"
    }
   ],
   "source": [
    "moy_X"
   ]
  },
  {
   "cell_type": "code",
   "execution_count": 17,
   "id": "83c226d6-0785-4ba9-8a73-3ae28fac5977",
   "metadata": {},
   "outputs": [],
   "source": [
    "b1=np.sum(((X-moy_X)*(Y-moy_Y)))/np.sum(np.square(X-moy_X))"
   ]
  },
  {
   "cell_type": "code",
   "execution_count": 18,
   "id": "825e36e3-5c20-48ea-86a0-590a95f391cc",
   "metadata": {},
   "outputs": [
    {
     "data": {
      "text/plain": [
       "0.047536640433019736"
      ]
     },
     "execution_count": 18,
     "metadata": {},
     "output_type": "execute_result"
    }
   ],
   "source": [
    "b1"
   ]
  },
  {
   "cell_type": "code",
   "execution_count": 19,
   "id": "47d1a23f-c997-4bd0-afa8-96574e5f4399",
   "metadata": {},
   "outputs": [],
   "source": [
    "b0=moy_Y-b1*moy_X"
   ]
  },
  {
   "cell_type": "code",
   "execution_count": 20,
   "id": "d5e8ebee-a852-48b4-bcfe-ef392defc05e",
   "metadata": {},
   "outputs": [
    {
     "data": {
      "text/plain": [
       "7.0325935491276965"
      ]
     },
     "execution_count": 20,
     "metadata": {},
     "output_type": "execute_result"
    }
   ],
   "source": [
    "b0"
   ]
  },
  {
   "cell_type": "markdown",
   "id": "6093c510-f91d-45ff-8034-18c0caaea795",
   "metadata": {},
   "source": [
    "---\n",
    "Exercice : représenter le jeu de données et le modèle obtenu"
   ]
  },
  {
   "cell_type": "code",
   "execution_count": 21,
   "id": "8b232d31-670f-4d75-a3e4-ed0252f76f8a",
   "metadata": {},
   "outputs": [],
   "source": [
    "x0=0\n",
    "y0=b0\n",
    "x1=np.max(X)\n",
    "y1=b1*x1+b0"
   ]
  },
  {
   "cell_type": "code",
   "execution_count": 22,
   "id": "b6654e72-4849-4313-b509-eddf628dd8b7",
   "metadata": {},
   "outputs": [
    {
     "name": "stdout",
     "output_type": "stream",
     "text": [
      "0 7.0325935491276965 296.4 21.122453773474746\n"
     ]
    }
   ],
   "source": [
    "print(x0,y0,x1,y1)"
   ]
  },
  {
   "cell_type": "code",
   "execution_count": 23,
   "id": "42516993-aae2-499b-b634-17da18f62f0c",
   "metadata": {},
   "outputs": [
    {
     "data": {
      "image/png": "[encoded data removed]",
      "text/plain": [
       "<Figure size 1500x1000 with 1 Axes>"
      ]
     },
     "metadata": {},
     "output_type": "display_data"
    }
   ],
   "source": [
    "plt.figure(figsize=(15,10))\n",
    "plt.scatter(X,Y)\n",
    "plt.xlabel(\"Budget TV\")\n",
    "plt.ylabel(\"Ventes\")\n",
    "plt.plot([x0,x1],[y0,y1],marker=\"o\")\n",
    "plt.show()"
   ]
  },
  {
   "cell_type": "markdown",
   "id": "770a5f10-594a-4c03-85a7-8caa8c3ff67d",
   "metadata": {},
   "source": [
    "## Interprétation de b0 et b1"
   ]
  },
  {
   "cell_type": "markdown",
   "id": "b92d5ee7-a87f-4d4c-8111-7d1a89fbde64",
   "metadata": {},
   "source": [
    "---\n",
    "Exercice : calcul de la qualité de notre modèle\n",
    "\n",
    "RSE = residual standard error\n",
    "\n",
    "![RSE](static/rse.png)"
   ]
  },
  {
   "cell_type": "code",
   "execution_count": 24,
   "id": "bd6fd0e7-fadc-47e5-96d3-3146b22017bf",
   "metadata": {},
   "outputs": [],
   "source": [
    "Y_pred=b1*X+b0"
   ]
  },
  {
   "cell_type": "code",
   "execution_count": 25,
   "id": "c0701162-2447-45f0-9e6b-15c44ba8661b",
   "metadata": {},
   "outputs": [],
   "source": [
    "RSE=np.sqrt(1/(len(X)-2)*np.sum(np.square(Y-Y_pred)))"
   ]
  },
  {
   "cell_type": "code",
   "execution_count": 26,
   "id": "766a0209-198d-4b4b-a2d2-0438e864460d",
   "metadata": {},
   "outputs": [
    {
     "name": "stdout",
     "output_type": "stream",
     "text": [
      "3.2586563686504624\n"
     ]
    }
   ],
   "source": [
    "print(RSE)"
   ]
  },
  {
   "cell_type": "markdown",
   "id": "f8cf2fce-aa09-4f3c-bc2e-fcea385de092",
   "metadata": {},
   "source": [
    "Votre résultat devrait être proche de 3.25"
   ]
  },
  {
   "cell_type": "markdown",
   "id": "e997c329-7bbe-4292-bfd9-734f3a50097c",
   "metadata": {},
   "source": [
    "## Interprétation du RSE"
   ]
  },
  {
   "cell_type": "code",
   "execution_count": 27,
   "id": "03bab784-a90a-4a0b-b235-adf3ea8c1e84",
   "metadata": {},
   "outputs": [
    {
     "name": "stdout",
     "output_type": "stream",
     "text": [
      "Erreur de 23.0 %\n"
     ]
    }
   ],
   "source": [
    "print(f\"Erreur de {np.round(RSE/np.mean(Y),2)*100} %\")"
   ]
  },
  {
   "cell_type": "markdown",
   "id": "74754ca4-6940-42ef-ac68-d645e88da1b6",
   "metadata": {},
   "source": [
    "---\n",
    "Exercice : Calcul du R2\n",
    "\n",
    "![R2](static/R2.png)\n",
    "\n",
    "avec $$TSS = \\sum (y - \\overline{y})^2$$ \n",
    "$$RSS = \\sum(ytrue-ypred)^2$$"
   ]
  },
  {
   "cell_type": "code",
   "execution_count": 28,
   "id": "e01e6524-7a9b-4a7d-94a2-2ccc2c5d3d16",
   "metadata": {},
   "outputs": [],
   "source": [
    "RSS=np.sum(np.square(Y-Y_pred))"
   ]
  },
  {
   "cell_type": "code",
   "execution_count": 29,
   "id": "85f6e309-07a2-4a3c-91cc-66593a193f0a",
   "metadata": {},
   "outputs": [],
   "source": [
    "R2=1-(RSS/(np.sum(np.square(Y-moy_Y))))"
   ]
  },
  {
   "cell_type": "code",
   "execution_count": 30,
   "id": "584f35f0-7778-488d-9b96-2ad28c967d14",
   "metadata": {},
   "outputs": [
    {
     "data": {
      "text/plain": [
       "0.611875050850071"
      ]
     },
     "execution_count": 30,
     "metadata": {},
     "output_type": "execute_result"
    }
   ],
   "source": [
    "R2"
   ]
  },
  {
   "cell_type": "markdown",
   "id": "ef25aee4-07cc-41c3-a72f-8a8e55ee165c",
   "metadata": {},
   "source": [
    "Votre résultat devrait être prochede 0.611"
   ]
  },
  {
   "cell_type": "markdown",
   "id": "24573401-c0e6-452e-8b8b-4b487cd073b3",
   "metadata": {},
   "source": [
    "Comment interprétez vous ce score ?"
   ]
  },
  {
   "cell_type": "raw",
   "id": "5f533d79-7abe-4c4b-96eb-91890a67d97a",
   "metadata": {},
   "source": [
    "Pas très bon :) \n",
    "> 0.7 serait un idéal"
   ]
  },
  {
   "cell_type": "markdown",
   "id": "ed387dc4-b4ca-4f97-901b-712fc8c9969c",
   "metadata": {},
   "source": [
    "---\n",
    "# Méthode du gradient"
   ]
  },
  {
   "cell_type": "markdown",
   "id": "38a3c60e-2a3a-424d-9073-9765c3104b53",
   "metadata": {},
   "source": [
    "Exercice : définir la fonction permettant d'estimer y en fonction de x, $\\theta_0$ et $\\theta_1$ "
   ]
  },
  {
   "cell_type": "code",
   "execution_count": 32,
   "id": "03181f3b-cc3b-460e-bdc8-f0177803b7b0",
   "metadata": {},
   "outputs": [],
   "source": [
    "def reg(x,theta_0, theta_1):\n",
    "    # Votre code 1 ligne\n",
    "    y=x*theta_1+theta_0\n",
    "    return y"
   ]
  },
  {
   "cell_type": "code",
   "execution_count": 33,
   "id": "1cb1e7ab-71d8-4de6-8c30-6dabb451d0ae",
   "metadata": {},
   "outputs": [],
   "source": [
    "assert reg(1,2,2)==4"
   ]
  },
  {
   "cell_type": "markdown",
   "id": "72bc1653-60d3-4650-a59c-1346367ef30a",
   "metadata": {},
   "source": [
    "___\n",
    "Exercice : définir la fonction de coût MSE=$J(\\theta_{0},\\theta_{1})= \\frac{1}{2m}\\sum\\limits_{i=1}^{m}(h_{\\theta}(x^{(i)})-y^{(i)})^{2}$"
   ]
  },
  {
   "cell_type": "code",
   "execution_count": 34,
   "id": "acb3d1f7-5ac0-4440-84fa-6615f79da0f2",
   "metadata": {},
   "outputs": [],
   "source": [
    "def cost_function(x,y,theta_0,theta_1):\n",
    "    m=len(x)\n",
    "    sum_sq_error=np.sum((reg(x,theta_0,theta_1)-y)**2)\n",
    "    MSE=(1/(2*m))*sum_sq_error\n",
    "    return MSE\n",
    "    "
   ]
  },
  {
   "cell_type": "code",
   "execution_count": 35,
   "id": "75c42ea0-3dbd-47cf-9b9a-2c4cb2fb04fa",
   "metadata": {},
   "outputs": [],
   "source": [
    "assert cost_function(np.array([1,1]),np.array([8,8]),2,2) == 8"
   ]
  },
  {
   "cell_type": "markdown",
   "id": "b338dd11-2be6-4af0-8e4d-a5ca3030bda9",
   "metadata": {},
   "source": [
    "---\n",
    "Exercice : convertir X et Y tableau numpy"
   ]
  },
  {
   "cell_type": "code",
   "execution_count": 36,
   "id": "320ee505-f3ec-4ea7-9fdc-fc44c5c9f7bf",
   "metadata": {},
   "outputs": [],
   "source": [
    "X=np.array(X)\n",
    "Y=np.array(Y)"
   ]
  },
  {
   "cell_type": "code",
   "execution_count": 37,
   "id": "de94fb30-926f-4c6a-aa91-779630a22bf1",
   "metadata": {},
   "outputs": [
    {
     "data": {
      "text/plain": [
       "array([230.1,  44.5,  17.2, 151.5, 180.8])"
      ]
     },
     "execution_count": 37,
     "metadata": {},
     "output_type": "execute_result"
    }
   ],
   "source": [
    "X[:5]"
   ]
  },
  {
   "cell_type": "code",
   "execution_count": 38,
   "id": "7041ec4b-0045-4308-bfe1-0c31d175a877",
   "metadata": {},
   "outputs": [
    {
     "data": {
      "text/plain": [
       "array([22.1, 10.4,  9.3, 18.5, 12.9])"
      ]
     },
     "execution_count": 38,
     "metadata": {},
     "output_type": "execute_result"
    }
   ],
   "source": [
    "Y[:5]"
   ]
  },
  {
   "cell_type": "markdown",
   "id": "22f970b0-b643-4c06-9b5b-2ce1c1ceccb0",
   "metadata": {},
   "source": [
    "---\n",
    "Recherche de $\\theta_0$ et $\\theta_1$"
   ]
  },
  {
   "cell_type": "markdown",
   "id": "ffdaff17-ac45-4a3f-bc77-e41f54b0e4b5",
   "metadata": {},
   "source": [
    "Exercice : appliquer l'algorithme du gradient sur un nombre d'itération qui vous parait pertinent.\n",
    "\n",
    "$\n",
    "Répéter pendant n_iterations\n",
    "\\{\\\\\n",
    "\\theta_{0}:= \\theta_{0} - \\alpha\\frac{1}{m}\\sum\\limits_{i=1}^{m}(h_{\\theta}(x^{(i)})-y^{(i)})\\\\\n",
    "\\theta_{1}:= \\theta_{1} - \\alpha\\frac{1}{m}\\sum\\limits_{i=1}^{m}(h_{\\theta}(x^{(i)})-y^{(i)})\\times x^{(i)}\n",
    "\\\\\n",
    "\\}\n",
    "$"
   ]
  },
  {
   "cell_type": "code",
   "execution_count": 40,
   "id": "1c996d01-71df-46ac-b9f2-b51d42f834f7",
   "metadata": {},
   "outputs": [],
   "source": [
    "# hyperparamètres\n",
    "lr=0.001\n",
    "iterations=30000\n",
    "\n",
    "# paramètres\n",
    "theta_0=0\n",
    "theta_1=0\n",
    "\n",
    "# autres paramètres / variables\n",
    "m=len(X)\n",
    "Xstd=X/100\n",
    "histo_theta_0=[]\n",
    "histo_theta_1=[]\n",
    "histo_loss=[]"
   ]
  },
  {
   "cell_type": "code",
   "execution_count": 41,
   "id": "9b577295-1905-493c-a420-5a7b4b6da31c",
   "metadata": {},
   "outputs": [
    {
     "name": "stderr",
     "output_type": "stream",
     "text": [
      "100%|█████████████| 30000/30000 [00:00<00:00, 156848.79it/s]"
     ]
    },
    {
     "name": "stdout",
     "output_type": "stream",
     "text": [
      "theta0=7.023687285127659, theta1=4.758519464872395\n"
     ]
    },
    {
     "name": "stderr",
     "output_type": "stream",
     "text": [
      "\n"
     ]
    }
   ],
   "source": [
    "for i in tqdm.tqdm(range(iterations),ncols=60):\n",
    "    save_theta_0=theta_0\n",
    "    save_theta_1=theta_1\n",
    "    \n",
    "    y_pred=reg(Xstd,save_theta_0,save_theta_1)\n",
    "    theta_0 = save_theta_0 - lr * (1/m) * np.sum(y_pred - Y)\n",
    "    theta_1 = save_theta_1 - lr * (1/m) * np.sum((y_pred - Y) * Xstd)\n",
    "\n",
    "    histo_theta_0.append(theta_0)\n",
    "    histo_theta_1.append(theta_1)\n",
    "    \n",
    "    if i%100==0:\n",
    "        histo_loss.append(cost_function(Xstd,Y,theta_0,theta_1))\n",
    "\n",
    "print(f\"theta0={theta_0}, theta1={theta_1}\") \n"
   ]
  },
  {
   "cell_type": "code",
   "execution_count": 42,
   "id": "a74223ad-4a5b-4190-a60c-1f8ef259d8ec",
   "metadata": {},
   "outputs": [
    {
     "data": {
      "image/png": "[encoded data removed]",
      "text/plain": [
       "<Figure size 640x480 with 1 Axes>"
      ]
     },
     "metadata": {},
     "output_type": "display_data"
    }
   ],
   "source": [
    "plt.figure()\n",
    "plt.plot(histo_theta_0,label=\"theta_0\")\n",
    "plt.plot(histo_theta_1,label=\"theta_1\")\n",
    "plt.legend()\n",
    "plt.show()"
   ]
  },
  {
   "cell_type": "code",
   "execution_count": 43,
   "id": "14ba1534-a755-4144-a80b-80d3629e624a",
   "metadata": {},
   "outputs": [
    {
     "data": {
      "image/png": "[encoded data removed]",
      "text/plain": [
       "<Figure size 640x480 with 1 Axes>"
      ]
     },
     "metadata": {},
     "output_type": "display_data"
    }
   ],
   "source": [
    "plt.figure()\n",
    "plt.scatter(np.arange(stop=30000,step=100),histo_loss)\n",
    "plt.show()"
   ]
  },
  {
   "cell_type": "code",
   "execution_count": 46,
   "id": "bd855919-9b86-49e5-bf31-e97e99617f5e",
   "metadata": {},
   "outputs": [
    {
     "data": {
      "image/png": "[encoded data removed]",
      "text/plain": [
       "<Figure size 640x480 with 1 Axes>"
      ]
     },
     "metadata": {},
     "output_type": "display_data"
    }
   ],
   "source": [
    "plt.figure()\n",
    "plt.plot(histo_loss[:20])\n",
    "plt.show()"
   ]
  },
  {
   "cell_type": "code",
   "execution_count": null,
   "id": "a03ffe39-887a-4d98-8f35-1ee7ea27d3aa",
   "metadata": {},
   "outputs": [],
   "source": []
  }
 ],
 "metadata": {
  "kernelspec": {
   "display_name": "ia",
   "language": "python",
   "name": "ia"
  },
  "language_info": {
   "codemirror_mode": {
    "name": "ipython",
    "version": 3
   },
   "file_extension": ".py",
   "mimetype": "text/x-python",
   "name": "python",
   "nbconvert_exporter": "python",
   "pygments_lexer": "ipython3",
   "version": "3.9.0"
  }
 },
 "nbformat": 4,
 "nbformat_minor": 5
}

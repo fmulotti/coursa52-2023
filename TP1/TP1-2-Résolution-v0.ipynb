{
 "cells": [
  {
   "cell_type": "markdown",
   "id": "907e0b1a-18c2-4222-858f-d51eb7d1bdfc",
   "metadata": {},
   "source": [
    "# Apprentissage supervisé\n",
    "\n",
    "Régression linéaire simple\n",
    "\n",
    "__Objectif__\n",
    "- chargement d un jeu de données CSV,\n",
    "- représentation des données,\n",
    "- calcul $B_0$ et $B_1$, méthode simple,\n",
    "- calcul de la qualité du modèle,\n",
    "- calcul avec la méthode du gradient."
   ]
  },
  {
   "cell_type": "markdown",
   "id": "0c9c621c-c7f8-4ccb-bf1d-4be7a843085d",
   "metadata": {},
   "source": [
    "---\n",
    "## attention vous aurez besoin peut etre d'installer tqdm.\n",
    "Ce n'est pas une bibliothèque essentielle. "
   ]
  },
  {
   "cell_type": "code",
   "execution_count": null,
   "id": "d97c8909-eac8-4240-9f39-b013d8bd97bd",
   "metadata": {},
   "outputs": [],
   "source": [
    "import numpy as np\n",
    "import pandas as pd\n",
    "import matplotlib.pyplot as plt\n",
    "import tqdm"
   ]
  },
  {
   "cell_type": "markdown",
   "id": "4851549d-e9bd-47b0-8f57-0155950176a3",
   "metadata": {},
   "source": [
    "## Chargement du jeu données \"../data/Advertising.csv\" \n",
    "conserver les colonnes TV et Sales"
   ]
  },
  {
   "cell_type": "code",
   "execution_count": null,
   "id": "fff104ce-7117-4ffb-b5b4-c63c4b6bbf2d",
   "metadata": {},
   "outputs": [],
   "source": [
    "df = pd.read_csv(\"../data/Advertising.csv\")"
   ]
  },
  {
   "cell_type": "code",
   "execution_count": null,
   "id": "ca85e901-6eca-49ef-ba57-a2019b9a394e",
   "metadata": {},
   "outputs": [],
   "source": [
    "listcol=df.columns"
   ]
  },
  {
   "cell_type": "code",
   "execution_count": null,
   "id": "559c2acf-01c6-4931-9ff7-043c7a7cc622",
   "metadata": {},
   "outputs": [],
   "source": [
    "# Nous allons juste conserver les colonnes TV et Sales\n",
    "df.drop(columns=[listcol[0],listcol[2],listcol[3]],inplace=True)"
   ]
  },
  {
   "cell_type": "code",
   "execution_count": null,
   "id": "8eb4b215-9aa9-4770-8065-357f076dc6ef",
   "metadata": {},
   "outputs": [],
   "source": [
    "df.describe()"
   ]
  },
  {
   "cell_type": "code",
   "execution_count": null,
   "id": "e488baaf-e6f9-4a31-be6b-5e9cf58bab1a",
   "metadata": {},
   "outputs": [],
   "source": [
    "df.info()"
   ]
  },
  {
   "cell_type": "code",
   "execution_count": null,
   "id": "ff3e76e0-c4f5-4126-b85b-795c06fbc53d",
   "metadata": {},
   "outputs": [],
   "source": [
    "df.columns[1]"
   ]
  },
  {
   "cell_type": "markdown",
   "id": "12f8e717-dd5d-4728-b5da-05178b406ec2",
   "metadata": {},
   "source": [
    "---\n",
    "Exercice : charger les données de la colonne TV dans un numpy X et Sales dans un numpy Y"
   ]
  },
  {
   "cell_type": "code",
   "execution_count": null,
   "id": "347ea1f6-37f6-4123-a0d8-8dac35646546",
   "metadata": {},
   "outputs": [],
   "source": []
  },
  {
   "cell_type": "code",
   "execution_count": null,
   "id": "94c4164f-9b46-4ed1-b77b-0c6103bce849",
   "metadata": {},
   "outputs": [],
   "source": []
  },
  {
   "cell_type": "markdown",
   "id": "6fc1bd31-ba87-4427-9059-f9f3f4de9f51",
   "metadata": {},
   "source": [
    "# Représentation"
   ]
  },
  {
   "cell_type": "code",
   "execution_count": null,
   "id": "b3c97256-b8c3-4aae-9c9a-c0b083576fae",
   "metadata": {},
   "outputs": [],
   "source": [
    "plt.figure(figsize=(15,10))\n",
    "plt.scatter(X,Y)\n",
    "plt.xlabel(\"Budget TV\")\n",
    "plt.ylabel(\"Ventes\")\n",
    "plt.show()"
   ]
  },
  {
   "cell_type": "markdown",
   "id": "5197643d-58c1-4891-9f3e-d1a663e2acf9",
   "metadata": {},
   "source": [
    "---\n",
    "Exercice : Calcul de b1 et b0\n",
    "\n",
    "![b1b0](static/b0-b1.png)"
   ]
  },
  {
   "cell_type": "code",
   "execution_count": null,
   "id": "9ed3e14c-27a3-45fa-8f0e-2f03e8e85452",
   "metadata": {},
   "outputs": [],
   "source": []
  },
  {
   "cell_type": "markdown",
   "id": "5fc74681-55c4-4cc7-810f-6d7ce88f85b7",
   "metadata": {},
   "source": [
    "Vous devriez obtenir un $\\beta0$ proche de 7 et $\\beta1$ proche de 0.04"
   ]
  },
  {
   "cell_type": "markdown",
   "id": "6093c510-f91d-45ff-8034-18c0caaea795",
   "metadata": {},
   "source": [
    "---\n",
    "Exercice : représenter le jeu de données et le modèle obtenu"
   ]
  },
  {
   "cell_type": "code",
   "execution_count": null,
   "id": "42516993-aae2-499b-b634-17da18f62f0c",
   "metadata": {},
   "outputs": [],
   "source": []
  },
  {
   "cell_type": "markdown",
   "id": "770a5f10-594a-4c03-85a7-8caa8c3ff67d",
   "metadata": {},
   "source": [
    "## Interprétation de b0 et b1"
   ]
  },
  {
   "cell_type": "markdown",
   "id": "b92d5ee7-a87f-4d4c-8111-7d1a89fbde64",
   "metadata": {},
   "source": [
    "---\n",
    "Exercice : calcul de la qualité de notre modèle\n",
    "\n",
    "RSE = residual standard error\n",
    "\n",
    "![RSE](static/rse.png)"
   ]
  },
  {
   "cell_type": "code",
   "execution_count": null,
   "id": "86bfbf24-4606-45f5-a458-c8fbb7a06a9b",
   "metadata": {},
   "outputs": [],
   "source": []
  },
  {
   "cell_type": "code",
   "execution_count": null,
   "id": "766a0209-198d-4b4b-a2d2-0438e864460d",
   "metadata": {},
   "outputs": [],
   "source": [
    "print(RSE)"
   ]
  },
  {
   "cell_type": "markdown",
   "id": "f8cf2fce-aa09-4f3c-bc2e-fcea385de092",
   "metadata": {},
   "source": [
    "Votre résultat devrait être proche de 3.25"
   ]
  },
  {
   "cell_type": "markdown",
   "id": "e997c329-7bbe-4292-bfd9-734f3a50097c",
   "metadata": {},
   "source": [
    "## Interprétation du RSE"
   ]
  },
  {
   "cell_type": "code",
   "execution_count": null,
   "id": "03bab784-a90a-4a0b-b235-adf3ea8c1e84",
   "metadata": {},
   "outputs": [],
   "source": [
    "print(f\"Erreur de {np.round(RSE/np.mean(Y),2)*100} %\")"
   ]
  },
  {
   "cell_type": "markdown",
   "id": "74754ca4-6940-42ef-ac68-d645e88da1b6",
   "metadata": {},
   "source": [
    "---\n",
    "Exercice : Calcul du R2\n",
    "\n",
    "![R2](static/r2.png)\n",
    "\n",
    "avec $$TSS = \\sum (y - \\overline{y})^2$$ \n",
    "$$RSS = \\sum(ytrue-ypred)^2$$"
   ]
  },
  {
   "cell_type": "code",
   "execution_count": null,
   "id": "5ab67d74-8e52-4801-821c-80ff6780392b",
   "metadata": {},
   "outputs": [],
   "source": []
  },
  {
   "cell_type": "code",
   "execution_count": null,
   "id": "584f35f0-7778-488d-9b96-2ad28c967d14",
   "metadata": {},
   "outputs": [],
   "source": [
    "R2"
   ]
  },
  {
   "cell_type": "markdown",
   "id": "ef25aee4-07cc-41c3-a72f-8a8e55ee165c",
   "metadata": {},
   "source": [
    "Votre résultat devrait être prochede 0.611"
   ]
  },
  {
   "cell_type": "markdown",
   "id": "24573401-c0e6-452e-8b8b-4b487cd073b3",
   "metadata": {},
   "source": [
    "Comment interprétez vous ce score ?"
   ]
  },
  {
   "cell_type": "code",
   "execution_count": null,
   "id": "7a817de0-d769-4dd1-ab6f-3f630fdc5302",
   "metadata": {},
   "outputs": [],
   "source": []
  },
  {
   "cell_type": "markdown",
   "id": "ed387dc4-b4ca-4f97-901b-712fc8c9969c",
   "metadata": {},
   "source": [
    "---\n",
    "# Méthode du gradient"
   ]
  },
  {
   "cell_type": "markdown",
   "id": "38a3c60e-2a3a-424d-9073-9765c3104b53",
   "metadata": {},
   "source": [
    "Exercice : définir la fonction permettant d'estimer y en fonction de x, $\\theta_0$ et $\\theta_1$ "
   ]
  },
  {
   "cell_type": "code",
   "execution_count": null,
   "id": "dd705c1c-dd56-48a9-a666-fd62d970d102",
   "metadata": {},
   "outputs": [],
   "source": [
    "def reg...."
   ]
  },
  {
   "cell_type": "code",
   "execution_count": null,
   "id": "1cb1e7ab-71d8-4de6-8c30-6dabb451d0ae",
   "metadata": {},
   "outputs": [],
   "source": [
    "assert reg(1,2,2)==4"
   ]
  },
  {
   "cell_type": "markdown",
   "id": "72bc1653-60d3-4650-a59c-1346367ef30a",
   "metadata": {},
   "source": [
    "___\n",
    "Exercice : définir la fonction de coût RSE=$J(\\theta_{0},\\theta_{1})= \\frac{1}{2m}\\sum\\limits_{i=1}^{m}(h_{\\theta}(x^{(i)})-y^{(i)})^{2}$"
   ]
  },
  {
   "cell_type": "code",
   "execution_count": null,
   "id": "acb3d1f7-5ac0-4440-84fa-6615f79da0f2",
   "metadata": {},
   "outputs": [],
   "source": [
    "def cost_function(x,y,theta_0,theta_1):\n",
    "\n"
   ]
  },
  {
   "cell_type": "code",
   "execution_count": null,
   "id": "75c42ea0-3dbd-47cf-9b9a-2c4cb2fb04fa",
   "metadata": {},
   "outputs": [],
   "source": [
    "assert cost_function(np.array([1,1]),np.array([8,8]),2,2) == 8"
   ]
  },
  {
   "cell_type": "markdown",
   "id": "b338dd11-2be6-4af0-8e4d-a5ca3030bda9",
   "metadata": {},
   "source": [
    "---\n",
    "Exercice : convertir X et Y tableau numpy (si besoin)"
   ]
  },
  {
   "cell_type": "code",
   "execution_count": null,
   "id": "f61380c8-0c3c-4d0d-8826-bc55ae0f2e02",
   "metadata": {},
   "outputs": [],
   "source": []
  },
  {
   "cell_type": "code",
   "execution_count": null,
   "id": "de94fb30-926f-4c6a-aa91-779630a22bf1",
   "metadata": {},
   "outputs": [],
   "source": [
    "X[:5]"
   ]
  },
  {
   "cell_type": "code",
   "execution_count": null,
   "id": "7041ec4b-0045-4308-bfe1-0c31d175a877",
   "metadata": {},
   "outputs": [],
   "source": [
    "Y[:5]"
   ]
  },
  {
   "cell_type": "markdown",
   "id": "22f970b0-b643-4c06-9b5b-2ce1c1ceccb0",
   "metadata": {},
   "source": [
    "---\n",
    "Recherche de $\\theta_0$ et $\\theta_1$"
   ]
  },
  {
   "cell_type": "markdown",
   "id": "ffdaff17-ac45-4a3f-bc77-e41f54b0e4b5",
   "metadata": {},
   "source": [
    "Exercice : appliquer l'algorithme du gradient sur un nombre d'itération qui vous parait pertinent.\n",
    "\n",
    "$\n",
    "\\text{Répéter pendant n_iterations}\n",
    "\\{\\\\\n",
    "\\theta_{0}:= \\theta_{0} - \\alpha\\frac{1}{m}\\sum\\limits_{i=1}^{m}(h_{\\theta}(x^{(i)})-y^{(i)})\\\\\n",
    "\\theta_{1}:= \\theta_{1} - \\alpha\\frac{1}{m}\\sum\\limits_{i=1}^{m}(h_{\\theta}(x^{(i)})-y^{(i)})\\times x^{(i)}\n",
    "\\\\\n",
    "\\}\n",
    "$"
   ]
  },
  {
   "cell_type": "code",
   "execution_count": null,
   "id": "1c996d01-71df-46ac-b9f2-b51d42f834f7",
   "metadata": {},
   "outputs": [],
   "source": [
    "# hyperparamètres\n",
    "lr=0.001\n",
    "iterations= # a choisi\n",
    "\n",
    "# paramètres\n",
    "theta_0=0\n",
    "theta_1=0\n",
    "\n",
    "# autres paramètres / variables\n",
    "m=len(X)\n",
    "Xstd=X/100\n",
    "histo_theta_0=[]\n",
    "histo_theta_1=[]\n",
    "histo_loss=[]"
   ]
  },
  {
   "cell_type": "code",
   "execution_count": null,
   "id": "9b577295-1905-493c-a420-5a7b4b6da31c",
   "metadata": {},
   "outputs": [],
   "source": [
    "for i in tqdm.tqdm(range(iterations),ncols=60):\n",
    "    # votre code\n",
    "\n",
    "    # garder les lignes suivantes\n",
    "    histo_theta_0.append(theta_0)\n",
    "    histo_theta_1.append(theta_1)\n",
    "    \n",
    "    if i%100==0:\n",
    "        histo_loss.append(cost_function(Xstd,Y,theta_0,theta_1))\n",
    "\n",
    "print(f\"theta0={theta_0}, theta1={theta_1}\") \n"
   ]
  },
  {
   "cell_type": "code",
   "execution_count": null,
   "id": "c8a4dfec-390b-4dcc-a021-f7f390c21891",
   "metadata": {},
   "outputs": [],
   "source": []
  },
  {
   "cell_type": "code",
   "execution_count": null,
   "id": "a74223ad-4a5b-4190-a60c-1f8ef259d8ec",
   "metadata": {},
   "outputs": [],
   "source": [
    "plt.figure()\n",
    "plt.plot(histo_theta_0,label=\"theta_0\")\n",
    "plt.plot(histo_theta_1,label=\"theta_1\")\n",
    "plt.legend()\n",
    "plt.show()"
   ]
  },
  {
   "cell_type": "code",
   "execution_count": null,
   "id": "14ba1534-a755-4144-a80b-80d3629e624a",
   "metadata": {},
   "outputs": [],
   "source": [
    "plt.figure()\n",
    "plt.scatter(np.arange(stop=30000,step=100),histo_loss)\n",
    "plt.show()"
   ]
  },
  {
   "cell_type": "markdown",
   "id": "b21ede35-7652-4a8c-b208-926afa16dc99",
   "metadata": {},
   "source": [
    "---\n",
    "Que constatez vous sur l'évolution du cout ?"
   ]
  },
  {
   "cell_type": "code",
   "execution_count": null,
   "id": "7d61f349-0830-490d-aa7a-b698ef5893d0",
   "metadata": {},
   "outputs": [],
   "source": []
  }
 ],
 "metadata": {
  "kernelspec": {
   "display_name": "ia",
   "language": "python",
   "name": "ia"
  },
  "language_info": {
   "codemirror_mode": {
    "name": "ipython",
    "version": 3
   },
   "file_extension": ".py",
   "mimetype": "text/x-python",
   "name": "python",
   "nbconvert_exporter": "python",
   "pygments_lexer": "ipython3",
   "version": "3.11.6"
  }
 },
 "nbformat": 4,
 "nbformat_minor": 5
}

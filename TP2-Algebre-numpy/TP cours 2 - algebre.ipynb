{
 "cells": [
  {
   "cell_type": "markdown",
   "id": "65271070-e90e-4ed8-8342-e604b7740eea",
   "metadata": {
    "tags": []
   },
   "source": [
    "# Cours 2 : Numpy algèbre et autres\n",
    "\n",
    "(c) Fabrice Mulotti"
   ]
  },
  {
   "cell_type": "code",
   "execution_count": 2,
   "id": "78e98e26-2bf4-4436-848c-4d496cea5433",
   "metadata": {},
   "outputs": [],
   "source": [
    "import numpy as np"
   ]
  },
  {
   "cell_type": "markdown",
   "id": "9d549b20-11b8-4bc1-b798-3cb0384b058c",
   "metadata": {},
   "source": [
    "---\n",
    "Exercice 1 : déclarer une matrice de 5 par 3 contenant des nombres de 0 à 14"
   ]
  },
  {
   "cell_type": "code",
   "execution_count": 3,
   "id": "6a226b9c-092a-4107-8d0e-d129495c37d6",
   "metadata": {},
   "outputs": [],
   "source": [
    "mat = np.arange(0,15).reshape(5,3)"
   ]
  },
  {
   "cell_type": "code",
   "execution_count": 4,
   "id": "94c65ef9-a0e6-4ade-9d1f-c24c70c7044a",
   "metadata": {},
   "outputs": [
    {
     "name": "stdout",
     "output_type": "stream",
     "text": [
      "[[ 0  1  2]\n",
      " [ 3  4  5]\n",
      " [ 6  7  8]\n",
      " [ 9 10 11]\n",
      " [12 13 14]]\n"
     ]
    }
   ],
   "source": [
    "print(mat)"
   ]
  },
  {
   "cell_type": "markdown",
   "id": "faab9762-fbf5-419e-b021-06c6c0e4d009",
   "metadata": {},
   "source": [
    "----\n",
    "Exercice 2 : Quelle est la valeur de l'élément en position (selon les indices python) 3,2 ?"
   ]
  },
  {
   "cell_type": "code",
   "execution_count": 6,
   "id": "0022ee7b-f1df-44a2-9802-4244e51aa19b",
   "metadata": {},
   "outputs": [
    {
     "data": {
      "text/plain": [
       "11"
      ]
     },
     "execution_count": 6,
     "metadata": {},
     "output_type": "execute_result"
    }
   ],
   "source": [
    "mat[3,2]"
   ]
  },
  {
   "cell_type": "raw",
   "id": "c06d3e6b-82ae-4f7e-94cd-50d50d6c9dcf",
   "metadata": {},
   "source": [
    "11"
   ]
  },
  {
   "cell_type": "markdown",
   "id": "e3408ff5-0c3e-42dc-a9bc-b53c2065167b",
   "metadata": {},
   "source": [
    "---\n",
    "Créer une matrice mat2 qui contient tous les éléments de la matrice mat multiplié par 2"
   ]
  },
  {
   "cell_type": "code",
   "execution_count": 41,
   "id": "546eefef-8596-4ab2-bc2f-28114a5b2950",
   "metadata": {},
   "outputs": [],
   "source": [
    "mat2=mat*2"
   ]
  },
  {
   "cell_type": "code",
   "execution_count": 42,
   "id": "397491a5-595d-49fa-9393-3144808fa2ed",
   "metadata": {},
   "outputs": [
    {
     "name": "stdout",
     "output_type": "stream",
     "text": [
      "[[ 0  2  4]\n",
      " [ 6  8 10]\n",
      " [12 14 16]\n",
      " [18 20 22]\n",
      " [24 26 28]]\n"
     ]
    }
   ],
   "source": [
    "print(mat2)"
   ]
  },
  {
   "cell_type": "markdown",
   "id": "12c4542e-4b83-4420-8b0b-a7fdd17692ca",
   "metadata": {},
   "source": [
    "---\n",
    "Exercice 3 : Déclarer un matrice __mat3__ de dimension 5,3 ne contenant que des 1 "
   ]
  },
  {
   "cell_type": "code",
   "execution_count": 43,
   "id": "8a0826b1-8954-444e-a1f4-5ad81af4a0b6",
   "metadata": {},
   "outputs": [],
   "source": [
    "mat3=np.ones((5,3))"
   ]
  },
  {
   "cell_type": "markdown",
   "id": "3d1a841a-2682-4a13-854a-df0780da3969",
   "metadata": {},
   "source": [
    "---\n",
    "Exercice 4 : Additionner (en une ligne!) tous les éléments de cette matrice ?"
   ]
  },
  {
   "cell_type": "code",
   "execution_count": 44,
   "id": "d1aa85d5-4d48-499f-8621-9b8265dc2618",
   "metadata": {},
   "outputs": [
    {
     "data": {
      "text/plain": [
       "15.0"
      ]
     },
     "execution_count": 44,
     "metadata": {},
     "output_type": "execute_result"
    }
   ],
   "source": [
    "np.sum(mat3)"
   ]
  },
  {
   "cell_type": "markdown",
   "id": "500b38ea-5d67-4dca-a74a-fc1fbc1cc209",
   "metadata": {},
   "source": [
    "---\n",
    "Exercice 5 : Changer les dimensions de la matrice mat3 de 5,3 pour 3,5"
   ]
  },
  {
   "cell_type": "code",
   "execution_count": 45,
   "id": "ff59cea0-865c-47d3-bc3a-aeca6c4dad8a",
   "metadata": {},
   "outputs": [],
   "source": [
    "mat3=mat3.reshape(3,5)"
   ]
  },
  {
   "cell_type": "markdown",
   "id": "001be5e1-eef4-48c3-9b91-b44e687f71bd",
   "metadata": {},
   "source": [
    "___\n",
    "Exercice 6 : Déclarer une matrice mat4 de dimension 3,5 contenant que des chiffres 2, additionner les 2 matrices"
   ]
  },
  {
   "cell_type": "code",
   "execution_count": 46,
   "id": "4d2d28da-c9d4-4df0-abe4-10fc2349c934",
   "metadata": {},
   "outputs": [],
   "source": [
    "mat4=np.full((3,5),2)"
   ]
  },
  {
   "cell_type": "code",
   "execution_count": 47,
   "id": "f22914bc-0dab-4d3d-8522-a427bac93344",
   "metadata": {},
   "outputs": [
    {
     "data": {
      "text/plain": [
       "array([[3., 3., 3., 3., 3.],\n",
       "       [3., 3., 3., 3., 3.],\n",
       "       [3., 3., 3., 3., 3.]])"
      ]
     },
     "execution_count": 47,
     "metadata": {},
     "output_type": "execute_result"
    }
   ],
   "source": [
    "mat3+mat4"
   ]
  },
  {
   "cell_type": "markdown",
   "id": "b31a5903-6287-4bfe-bef2-e12f41687b60",
   "metadata": {},
   "source": [
    "----\n",
    "Exercice 7 : Déclarer un vecteur v de dimension 3,1 remplit de chiffres 2"
   ]
  },
  {
   "cell_type": "code",
   "execution_count": 48,
   "id": "1095d38d-91ce-43ba-911c-86878a00b925",
   "metadata": {},
   "outputs": [],
   "source": [
    "v=np.full((3,1),2)"
   ]
  },
  {
   "cell_type": "code",
   "execution_count": 49,
   "id": "154f9205-30d1-4efe-8112-2da84672bb1f",
   "metadata": {},
   "outputs": [
    {
     "data": {
      "text/plain": [
       "array([[2],\n",
       "       [2],\n",
       "       [2]])"
      ]
     },
     "execution_count": 49,
     "metadata": {},
     "output_type": "execute_result"
    }
   ],
   "source": [
    "v"
   ]
  },
  {
   "cell_type": "markdown",
   "id": "046f01a8-df2f-431b-a7b0-3d90833bfa8a",
   "metadata": {},
   "source": [
    "---\n",
    "Exercice 8 : Multiplier mat4 par v"
   ]
  },
  {
   "cell_type": "code",
   "execution_count": 50,
   "id": "84cd46ca-2160-49a0-9a67-8b685ae1e465",
   "metadata": {},
   "outputs": [
    {
     "ename": "ValueError",
     "evalue": "shapes (3,5) and (3,1) not aligned: 5 (dim 1) != 3 (dim 0)",
     "output_type": "error",
     "traceback": [
      "\u001b[0;31m---------------------------------------------------------------------------\u001b[0m",
      "\u001b[0;31mValueError\u001b[0m                                Traceback (most recent call last)",
      "Cell \u001b[0;32mIn [50], line 1\u001b[0m\n\u001b[0;32m----> 1\u001b[0m \u001b[43mnp\u001b[49m\u001b[38;5;241;43m.\u001b[39;49m\u001b[43mdot\u001b[49m\u001b[43m(\u001b[49m\u001b[43mmat4\u001b[49m\u001b[43m,\u001b[49m\u001b[43mv\u001b[49m\u001b[43m)\u001b[49m\n",
      "File \u001b[0;32m<__array_function__ internals>:180\u001b[0m, in \u001b[0;36mdot\u001b[0;34m(*args, **kwargs)\u001b[0m\n",
      "\u001b[0;31mValueError\u001b[0m: shapes (3,5) and (3,1) not aligned: 5 (dim 1) != 3 (dim 0)"
     ]
    }
   ],
   "source": [
    "np.dot(mat4,v)"
   ]
  },
  {
   "cell_type": "markdown",
   "id": "be9ef66e-6c69-4592-9bf1-7954eee3d38e",
   "metadata": {},
   "source": [
    "Cela donne quoi ?"
   ]
  },
  {
   "cell_type": "markdown",
   "id": "e840a2c0-dd6d-465b-b780-a55db07fbe00",
   "metadata": {},
   "source": [
    "---\n",
    "Exercice 8 : Ok, donnons nous un autre chance.<br>\n",
    "Changer la dimension de la matrice 4 sous la forme 5,3.<br>\n",
    "Essayer à nouveau la multiplication matricielle mat4 x v"
   ]
  },
  {
   "cell_type": "code",
   "execution_count": 51,
   "id": "7f34b63d-8034-4169-8d9c-a5b92be3d915",
   "metadata": {},
   "outputs": [],
   "source": [
    "mat4=mat4.reshape(5,3)"
   ]
  },
  {
   "cell_type": "code",
   "execution_count": 52,
   "id": "9f881607-a130-45c6-add7-683767faa435",
   "metadata": {},
   "outputs": [
    {
     "data": {
      "text/plain": [
       "array([[12],\n",
       "       [12],\n",
       "       [12],\n",
       "       [12],\n",
       "       [12]])"
      ]
     },
     "execution_count": 52,
     "metadata": {},
     "output_type": "execute_result"
    }
   ],
   "source": [
    "np.dot(mat4,v)"
   ]
  },
  {
   "cell_type": "markdown",
   "id": "fc4d369c-d244-48dc-9bbe-dd45224eba5a",
   "metadata": {},
   "source": [
    "---\n",
    "Exercice 9 : Déclarer une matrice mat5 de dimension 3,3 avec la valeur 2 dans toutes les cellules\n",
    "\n",
    "Multiplier et afficher mat5 par v\n",
    "\n",
    "Multiplier et afficher v __transpose__ par mat5"
   ]
  },
  {
   "cell_type": "code",
   "execution_count": 53,
   "id": "9a154800-50e6-44d2-98cb-98b474e6fad5",
   "metadata": {},
   "outputs": [],
   "source": [
    "mat5=np.full((3,3),2)"
   ]
  },
  {
   "cell_type": "code",
   "execution_count": 54,
   "id": "8a84d126-cc40-43e0-83ff-54f30a6a3a1d",
   "metadata": {},
   "outputs": [
    {
     "data": {
      "text/plain": [
       "array([[12],\n",
       "       [12],\n",
       "       [12]])"
      ]
     },
     "execution_count": 54,
     "metadata": {},
     "output_type": "execute_result"
    }
   ],
   "source": [
    "np.dot(mat5,v)"
   ]
  },
  {
   "cell_type": "code",
   "execution_count": 55,
   "id": "9676c32d-1eac-4af4-b6f8-a5c8b6458f87",
   "metadata": {},
   "outputs": [
    {
     "data": {
      "text/plain": [
       "array([[12, 12, 12]])"
      ]
     },
     "execution_count": 55,
     "metadata": {},
     "output_type": "execute_result"
    }
   ],
   "source": [
    "np.dot(v.transpose(),mat5)"
   ]
  },
  {
   "cell_type": "markdown",
   "id": "dc06bffc-d504-46d5-af36-8c9a38868805",
   "metadata": {},
   "source": [
    "---\n",
    "Exercice 10 : Afficher la version transpose de notre matrice ___mat___.\n",
    "Que constatez vous ?"
   ]
  },
  {
   "cell_type": "code",
   "execution_count": 56,
   "id": "499aa8a2-f6a1-445c-85b9-b369c24e6749",
   "metadata": {},
   "outputs": [
    {
     "data": {
      "text/plain": [
       "array([[ 0,  3,  6,  9, 12],\n",
       "       [ 1,  4,  7, 10, 13],\n",
       "       [ 2,  5,  8, 11, 14]])"
      ]
     },
     "execution_count": 56,
     "metadata": {},
     "output_type": "execute_result"
    }
   ],
   "source": [
    "mat.T"
   ]
  },
  {
   "cell_type": "code",
   "execution_count": 57,
   "id": "c541fa29-5271-4101-a2b2-32809de1eac5",
   "metadata": {},
   "outputs": [
    {
     "data": {
      "text/plain": [
       "array([[ 0,  1,  2],\n",
       "       [ 3,  4,  5],\n",
       "       [ 6,  7,  8],\n",
       "       [ 9, 10, 11],\n",
       "       [12, 13, 14]])"
      ]
     },
     "execution_count": 57,
     "metadata": {},
     "output_type": "execute_result"
    }
   ],
   "source": [
    "mat"
   ]
  },
  {
   "cell_type": "code",
   "execution_count": null,
   "id": "236283fa-2841-4d2f-9209-a97debd838fe",
   "metadata": {},
   "outputs": [],
   "source": []
  }
 ],
 "metadata": {
  "kernelspec": {
   "display_name": "ia",
   "language": "python",
   "name": "ia"
  },
  "language_info": {
   "codemirror_mode": {
    "name": "ipython",
    "version": 3
   },
   "file_extension": ".py",
   "mimetype": "text/x-python",
   "name": "python",
   "nbconvert_exporter": "python",
   "pygments_lexer": "ipython3",
   "version": "3.11.6"
  }
 },
 "nbformat": 4,
 "nbformat_minor": 5
}
